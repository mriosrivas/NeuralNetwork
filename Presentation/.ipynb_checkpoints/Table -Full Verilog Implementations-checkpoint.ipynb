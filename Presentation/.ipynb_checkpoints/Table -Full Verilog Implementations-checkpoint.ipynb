{
 "cells": [
  {
   "cell_type": "markdown",
   "metadata": {},
   "source": [
    "# Full Table Implementation"
   ]
  },
  {
   "cell_type": "code",
   "execution_count": 1,
   "metadata": {},
   "outputs": [],
   "source": [
    "import sys\n",
    "import numpy as np\n",
    "import matplotlib.pyplot as plt\n",
    "import pandas as pd\n",
    "from NeuralNetwork.tables import sigmoid_table, log_table, get_cross_entropy_tables\n",
    "from NeuralNetwork.verilog import verilog_case_module_generate, verilog_if_module_generate"
   ]
  },
  {
   "cell_type": "code",
   "execution_count": 2,
   "metadata": {},
   "outputs": [],
   "source": [
    "random_state = 124\n",
    "np.random.seed(random_state)\n",
    "\n",
    "EXTRA_BITS = 4\n",
    "DECIMAL_BITS = 12\n",
    "K_SHIFT = EXTRA_BITS + DECIMAL_BITS\n",
    "PRECISION = \"int32\"\n",
    "DOUBLE_PRECISION = \"int32\""
   ]
  },
  {
   "cell_type": "code",
   "execution_count": 3,
   "metadata": {},
   "outputs": [
    {
     "name": "stderr",
     "output_type": "stream",
     "text": [
      "/home/manuel/Desktop/ICIL/Presentation/NeuralNetwork/tables.py:79: RuntimeWarning: invalid value encountered in true_divide\n",
      "  loss_gradient = -(np.divide(y, al) - np.divide(1 - y, 1 - al))\n",
      "/home/manuel/Desktop/ICIL/Presentation/NeuralNetwork/tables.py:79: RuntimeWarning: divide by zero encountered in true_divide\n",
      "  loss_gradient = -(np.divide(y, al) - np.divide(1 - y, 1 - al))\n"
     ]
    }
   ],
   "source": [
    "# Create sigmoid table\n",
    "sigma_dec, sigma_int = sigmoid_table(EXTRA_BITS, DECIMAL_BITS, PRECISION)\n",
    "\n",
    "# Create log table\n",
    "z, log, log_int = log_table(DECIMAL_BITS, PRECISION)\n",
    "\n",
    "# Create gradient cross entropy table\n",
    "cross_entropy_table_1, cross_entropy_table_2 = get_cross_entropy_tables(DECIMAL_BITS, PRECISION)"
   ]
  },
  {
   "cell_type": "code",
   "execution_count": 4,
   "metadata": {},
   "outputs": [],
   "source": [
    "# Create verilog sigmoid table \n",
    "verilog_if_module_generate(file_name=\"sigma_int.sv\", module_name=\"sigma_int\", \n",
    "                           out_name=\"out\",in_name=\"in\", table=sigma_int, \n",
    "                           out_bit_size=DECIMAL_BITS, in_bit_size=K_SHIFT, else_condition=2**DECIMAL_BITS-1)"
   ]
  },
  {
   "cell_type": "code",
   "execution_count": 5,
   "metadata": {},
   "outputs": [],
   "source": [
    "# Create verilog log table \n",
    "verilog_case_module_generate(file_name=\"log_int.sv\", module_name=\"log_int\", \n",
    "                           out_name=\"out\",in_name=\"in\", table=log_int, \n",
    "                           out_bit_size=K_SHIFT, in_bit_size=DECIMAL_BITS+1, default_condition=0)"
   ]
  },
  {
   "cell_type": "code",
   "execution_count": 6,
   "metadata": {},
   "outputs": [],
   "source": [
    "# Create verilog gradient cross entropy table\n",
    "verilog_if_module_generate(file_name=\"cross_entropy_table_1.sv\", module_name=\"cross_entropy_table_1\", \n",
    "                           out_name=\"out\",in_name=\"in\", table=cross_entropy_table_1, \n",
    "                           out_bit_size=DECIMAL_BITS+1, in_bit_size=DECIMAL_BITS, else_condition=2**DECIMAL_BITS)\n",
    "\n",
    "verilog_if_module_generate(file_name=\"cross_entropy_table_2.sv\", module_name=\"cross_entropy_table_2\", \n",
    "                           out_name=\"out\",in_name=\"in\", table=cross_entropy_table_2, \n",
    "                           out_bit_size=DECIMAL_BITS+1, in_bit_size=DECIMAL_BITS, else_condition=0)"
   ]
  }
 ],
 "metadata": {
  "kernelspec": {
   "display_name": "Python 3",
   "language": "python",
   "name": "python3"
  },
  "language_info": {
   "codemirror_mode": {
    "name": "ipython",
    "version": 3
   },
   "file_extension": ".py",
   "mimetype": "text/x-python",
   "name": "python",
   "nbconvert_exporter": "python",
   "pygments_lexer": "ipython3",
   "version": "3.8.3"
  }
 },
 "nbformat": 4,
 "nbformat_minor": 4
}
